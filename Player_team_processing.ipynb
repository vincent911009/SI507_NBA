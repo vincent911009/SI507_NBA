{
 "cells": [
  {
   "cell_type": "code",
   "execution_count": 2,
   "metadata": {},
   "outputs": [],
   "source": [
    "import csv\n",
    "import pandas as pd\n",
    "from collections import defaultdict\n",
    "import numpy as np"
   ]
  },
  {
   "attachments": {},
   "cell_type": "markdown",
   "metadata": {},
   "source": [
    "Load the data of team_and_player.csv"
   ]
  },
  {
   "cell_type": "code",
   "execution_count": 4,
   "metadata": {},
   "outputs": [],
   "source": [
    "with open('team_and_player.csv', newline='', encoding=\"UTF-8\") as f:\n",
    "    reader = csv.reader(f)\n",
    "    data = list(reader)"
   ]
  },
  {
   "attachments": {},
   "cell_type": "markdown",
   "metadata": {},
   "source": [
    "Processing above data as a list. For example: [['BOS','Larry Bird', 'Jason Tatum',....], ['LAL','LeBron James','Kobe Bryant',.....],....,...]\n",
    "1. Each elment in the list is another list.\n",
    "2. In that list, first one is the team name and later is all of the players in that team."
   ]
  },
  {
   "cell_type": "code",
   "execution_count": 5,
   "metadata": {},
   "outputs": [],
   "source": [
    "teamm = []\n",
    "for i in range(len(data)):\n",
    "    team = data[i][1]\n",
    "    teamm.append(team)\n",
    "\n",
    "teamm = [*set(teamm)]\n",
    "\n",
    "result = []\n",
    "for i in data:\n",
    "    if i not in result:\n",
    "        result.append(i)\n",
    "\n",
    "x = []\n",
    "\n",
    "for j in teamm:\n",
    "    player = []\n",
    "    player.append(j)\n",
    "    for i in range(len(result)):\n",
    "        if result[i][1] == j:\n",
    "            \n",
    "            player.append(result[i][0])\n",
    "    x.append(player)"
   ]
  },
  {
   "attachments": {},
   "cell_type": "markdown",
   "metadata": {},
   "source": [
    "store this list as an csv that:\n",
    "1. First column is all the nba teams name\n",
    "2. each row is all of the players from that team"
   ]
  },
  {
   "cell_type": "code",
   "execution_count": 7,
   "metadata": {},
   "outputs": [],
   "source": [
    "with open('Player_team_graph.csv', 'w', encoding=\"UTF-8\") as f:\n",
    "    csv_writer = csv.writer(f)\n",
    "    csv_writer.writerows(x)"
   ]
  }
 ],
 "metadata": {
  "kernelspec": {
   "display_name": "Python 3",
   "language": "python",
   "name": "python3"
  },
  "language_info": {
   "codemirror_mode": {
    "name": "ipython",
    "version": 3
   },
   "file_extension": ".py",
   "mimetype": "text/x-python",
   "name": "python",
   "nbconvert_exporter": "python",
   "pygments_lexer": "ipython3",
   "version": "3.9.0 (tags/v3.9.0:9cf6752, Oct  5 2020, 15:34:40) [MSC v.1927 64 bit (AMD64)]"
  },
  "orig_nbformat": 4,
  "vscode": {
   "interpreter": {
    "hash": "82ed002fa2d4956f5c6aec99bcefe0f73a9f79882f3c9e2319b14958a5896ac5"
   }
  }
 },
 "nbformat": 4,
 "nbformat_minor": 2
}
